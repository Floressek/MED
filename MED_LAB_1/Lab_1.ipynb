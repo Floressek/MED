{
 "cells": [
  {
   "cell_type": "markdown",
   "id": "6529bab4f5001d51",
   "metadata": {},
   "source": [
    "## Import paczek potrzebnych do laboratorium"
   ]
  },
  {
   "cell_type": "code",
   "id": "fbc121e30a2defb3",
   "metadata": {},
   "source": [
    "import sklearn\n",
    "import numpy as np\n",
    "import pandas as pd\n",
    "import matplotlib.pyplot as plt\n",
    "from sklearn.linear_model import LinearRegression\n",
    "from sklearn.model_selection import train_test_split\n",
    "import matplotlib as mpl\n",
    "from mpl_toolkits.mplot3d import Axes3D\n",
    "from sklearn.metrics import mean_squared_error\n",
    "# Obliczanie przedziału ufności\n",
    "from sklearn.metrics import mean_squared_error"
   ],
   "outputs": [],
   "execution_count": null
  },
  {
   "cell_type": "markdown",
   "id": "acca8714116390f8",
   "metadata": {},
   "source": [
    "## Liczba uzytkownikow w kolejnych kwartalach (Facebook)"
   ]
  },
  {
   "cell_type": "code",
   "id": "5d5c6d56cc388384",
   "metadata": {},
   "source": [
    "user_count_q = {\n",
    "    'Q':\n",
    "        ['Q3 08', 'Q1 09', 'Q2 09', 'Q3 09', 'Q4 09', 'Q1 10',\n",
    "         'Q2 10', 'Q3 10', 'Q4 10', 'Q1 11', 'Q2 11', 'Q3 11',\n",
    "         'Q4 11', 'Q1 12', 'Q2 12', 'Q3 12', 'Q4 12', 'Q1 13',\n",
    "         'Q2 13', 'Q3 13', 'Q4 13', 'Q1 14', 'Q2 14', 'Q3 14',\n",
    "         'Q4 14', 'Q1 15', 'Q2 15', 'Q3 15', 'Q4 15', 'Q1 16',\n",
    "         'Q2 16', 'Q3 16', 'Q4 16', 'Q1 17', 'Q2 17', 'Q3 17', 'Q4 17'],\n",
    "    'User count':\n",
    "        [100, 197, 242, 305, 360, 431, 482, 550, 608, 680, 739, 800,\n",
    "         845, 901, 955, 1007, 1056, 1110, 1155, 1189, 1228, 1276, 1317,\n",
    "         1350, 1393, 1441, 1490, 1545, 1591, 1654, 1712, 1788, 1860, 1936,\n",
    "         2006, 2072, 2129]\n",
    "}"
   ],
   "outputs": [],
   "execution_count": null
  },
  {
   "cell_type": "markdown",
   "id": "7146dfa0a99984d",
   "metadata": {},
   "source": [
    "## Liczba uzytkownikow w kolejnych kwartalach (Facebook) - dane z lat 2008-2017 - usuwanie roku 2007 gdyz nie ma danych dla poprzedniej tabeli z tego roku\n"
   ]
  },
  {
   "cell_type": "code",
   "id": "9c1b7d573154614d",
   "metadata": {},
   "source": [
    "fb_stats_y_old = {\n",
    "    'Y': [2007, 2008, 2009, 2010, 2011, 2012, 2013, 2014, 2015, 2016, 2017],\n",
    "    'Income': [153, 272, 777, 1974, 3711, 5089, 7872, 12466, 17928, 27638, 40653],\n",
    "    'Profit': [-138, -56, 229, 606, 1000, 53, 1500, 2940, 3688, 10217, 15934],\n",
    "    'Employment': [450, 850, 1218, 2127, 3200, 4619, 6337, 9199, 12691, 17048, 25105]\n",
    "}\n",
    "\n",
    "# Poprawione dane z 2008-2017\n",
    "fb_stats_y = {\n",
    "    'Y': [2008, 2009, 2010, 2011, 2012, 2013, 2014, 2015, 2016, 2017],\n",
    "    'Income': [272, 777, 1974, 3711, 5089, 7872, 12466, 17928, 27638, 40653],\n",
    "    'Profit': [-56, 229, 606, 1000, 53, 1500, 2940, 3688, 10217, 15934],\n",
    "    'Employment': [850, 1218, 2127, 3200, 4619, 6337, 9199, 12691, 17048, 25105]\n",
    "}"
   ],
   "outputs": [],
   "execution_count": null
  },
  {
   "cell_type": "markdown",
   "id": "b13b9012e8ec71e",
   "metadata": {},
   "source": [
    "## Tworzenie DataFrame z danymi "
   ]
  },
  {
   "cell_type": "code",
   "id": "f2880c5402c900b7",
   "metadata": {},
   "source": [
    "user_count_df = pd.DataFrame(data=user_count_q)\n",
    "fb_stats_y_df = pd.DataFrame(data=fb_stats_y)\n",
    "print(fb_stats_y_df)\n",
    "print(user_count_df)"
   ],
   "outputs": [],
   "execution_count": null
  },
  {
   "cell_type": "code",
   "id": "dcc39ef449e524ef",
   "metadata": {},
   "source": [
    "def convert_quarter_to_year(quarter) -> int:\n",
    "    year_str = quarter.split(' ')[1]\n",
    "    year_int = 2000 + int(year_str)\n",
    "    return year_int\n"
   ],
   "outputs": [],
   "execution_count": null
  },
  {
   "cell_type": "code",
   "id": "d7c9893bff100381",
   "metadata": {},
   "source": [
    "user_count_y_df = user_count_df.copy()\n",
    "user_count_y_df['Q'] = user_count_df['Q'].map(convert_quarter_to_year)\n",
    "# Alternatywa byloby zaladowanie danych z Q4 jako max tez dobrze\n",
    "user_count_y_df = user_count_y_df\n",
    "user_count_y_df = user_count_y_df.groupby('Q', as_index=False).max()\n",
    "user_count_y_df.rename(columns={'Q': 'Y'}, inplace=True)\n",
    "print(user_count_y_df)"
   ],
   "outputs": [],
   "execution_count": null
  },
  {
   "cell_type": "code",
   "id": "13c1abecc3b948c5",
   "metadata": {},
   "source": [
    "fb_stats_y_df = pd.DataFrame(data=fb_stats_y)\n",
    "# Calculate costs\n",
    "fb_stats_y_df['Costs'] = fb_stats_y_df['Income'] - fb_stats_y_df['Profit']\n",
    "# fb_stats_y_df.drop([0], inplace=True)\n",
    "fb_stats_y_df.reset_index(drop=True, inplace=True)\n",
    "fb_stats_y_df.insert(3, 'User count', user_count_y_df['User count'])\n",
    "print(fb_stats_y_df)\n"
   ],
   "outputs": [],
   "execution_count": null
  },
  {
   "cell_type": "markdown",
   "id": "fb0e0f0ee024f1ec",
   "metadata": {},
   "source": [
    "## Tworzenie wykresu iloczynu kartezjanskiego w celu wyzanczeniach zaleznosci miedzy danymi"
   ]
  },
  {
   "cell_type": "code",
   "id": "c9b772f580da550d",
   "metadata": {},
   "source": [
    "pd.plotting.scatter_matrix(fb_stats_y_df, figsize=(10, 10))"
   ],
   "outputs": [],
   "execution_count": null
  },
  {
   "cell_type": "markdown",
   "id": "92f0ee58fbf0409",
   "metadata": {},
   "source": [
    "## Dane dla przyszlych lat (2018-2022) potrzbne do weryfikowania predyckji modelu"
   ]
  },
  {
   "cell_type": "code",
   "id": "f860b75ee635c2cb",
   "metadata": {},
   "source": [
    "user_count_q_test = {\n",
    "    'Q':\n",
    "    ['Q1 18', 'Q2 18', 'Q3 18', 'Q4 18',\n",
    "    'Q1 19', 'Q2 19', 'Q3 19', 'Q4 19',\n",
    "    'Q1 20', 'Q2 20', 'Q3 20', 'Q4 20',\n",
    "    'Q1 21', 'Q2 21', 'Q3 21', 'Q4 21',\n",
    "    'Q1 22', 'Q2 22', 'Q3 22', 'Q4 22'],\n",
    "    'User count': \n",
    "    [2196, 2234, 2271, 2320, 2375, 2414, 2449, 2498, 2603, 2701, 2740, 2797,\n",
    "    2853, 2895, 2910, 2912, 2936, 2934, 2958, 2963]\n",
    "}\n",
    "\n",
    "fb_stats_y_test = {\n",
    "    'Y': [2018, 2019, 2020, 2021, 2022],\n",
    "    'Income': [55838, 70697, 85965, 117929, 116609],\n",
    "    'Profit': [22112, 18485, 29146, 39370, 23200],\n",
    "    'Costs': [33726, 52212, 56819, 78559, 93409],\n",
    "    'Employment': [35587, 44942, 58604, 71970, 87314],\n",
    "    'User count': [2320, 2498, 2797, 2912, 2963]\n",
    "}"
   ],
   "outputs": [],
   "execution_count": null
  },
  {
   "cell_type": "code",
   "id": "5ce1e04605ebbc7b",
   "metadata": {},
   "source": [
    "user_count_test_df = pd.DataFrame(data=user_count_q_test)\n",
    "fb_stats_y_test_df = pd.DataFrame(data=fb_stats_y_test)\n",
    "print(user_count_test_df)\n",
    "print(fb_stats_y_test_df)"
   ],
   "outputs": [],
   "execution_count": null
  },
  {
   "cell_type": "markdown",
   "id": "f88cea006ccaba3c",
   "metadata": {},
   "source": [
    "## Funkcja do obliczania statystyki modelu"
   ]
  },
  {
   "cell_type": "code",
   "id": "c58f822af7fb255d",
   "metadata": {},
   "source": [
    "def calculate_model_stats(y_hat, y_true, X) -> dict:\n",
    "    # Dodajemy kolumne jedynek dla wyrazu wolnego \n",
    "    X = np.insert(X, 0, 1, axis=1) \n",
    "    \n",
    "    residuals = y_true - y_hat\n",
    "    # Obliczamy sume kwadratow reszt(RSS - Residual Sum of Squares)\n",
    "    # RSS = e^T * e, gdzie e to wektor reszt\n",
    "    residuals_sum_squared = residuals.T @ residuals \n",
    "    \n",
    "    # Obliczamy estymator wariancji resztowej (σ²)\n",
    "    # σ² = RSS/(n-k), gdzie:\n",
    "    # n = liczba obserwacji (y_hat.shape[0])\n",
    "    # k = liczba parametrów modelu (X.shape[1])\n",
    "    standard_variance = residuals_sum_squared[0, 0] / (y_hat.shape[0] - X.shape[1])\n",
    "    \n",
    "    # Var(β̂) = σ² × (X^T × X)^(-1)\n",
    "    model_coefficients_covariance = standard_variance * np.linalg.inv(X.T @ X) # Liczymy macierz kowariancji wspl. modelu\n",
    "    stats = dict()\n",
    "    \n",
    "    # Obliczamy błędy standardowe dla każdego współczynnika\n",
    "    # SE(β̂ᵢ) = √Var(β̂ᵢ)\n",
    "    for number in range(model_coefficients_covariance.shape[0]):\n",
    "        stats['Standard errror a' + str(number)] = np.sqrt(model_coefficients_covariance[number, number])\n",
    "    \n",
    "    # Na koniec blad standardowy modelu\n",
    "    stats['Standard error e'] = np.sqrt(standard_variance)\n",
    "    return stats\n",
    "    \n",
    "    "
   ],
   "outputs": [],
   "execution_count": null
  },
  {
   "cell_type": "markdown",
   "id": "3de7a629c721ff54",
   "metadata": {},
   "source": [
    "## Funkcje pomocnicze dla szeregow czasowych z uzyciem kwartalow"
   ]
  },
  {
   "cell_type": "code",
   "id": "29aa088a4a7e1903",
   "metadata": {},
   "source": [
    "def transform_quarter_to_number(string) -> int:\n",
    "    if ' ' not in string:\n",
    "        raise ValueError(f\"Invalid format for quarter: {string}\")\n",
    "    quarter, year = string.split(' ')\n",
    "    quarters = {'Q1': 0, 'Q2': 1, 'Q3': 2, 'Q4': 3}\n",
    "    year = int(year) - 8\n",
    "    return year * 4 + quarters[quarter]\n",
    "\n",
    "def transform_number_to_quarter(number) -> str:\n",
    "    year = (number // 4) + 8\n",
    "    quarters = {0: 'Q1', 1: 'Q2', 2: 'Q3', 3: 'Q4'}\n",
    "    quarter = quarters[number % 4]\n",
    "    quarter_string = quarter + ' {:02d}'.format(year)\n",
    "    return quarters[quarter] + ' ' + str(year)\n"
   ],
   "outputs": [],
   "execution_count": null
  },
  {
   "cell_type": "code",
   "id": "7a212ab7500b1fd9",
   "metadata": {},
   "source": [
    "user_count_df['Q'] = user_count_df['Q'].astype(str).map(transform_quarter_to_number)\n",
    "user_count_test_df['Q'] = user_count_test_df['Q'].astype(str).map(transform_quarter_to_number)\n",
    "print(user_count_df)\n",
    "print(user_count_test_df)"
   ],
   "outputs": [],
   "execution_count": null
  },
  {
   "cell_type": "markdown",
   "id": "f5ae2273fd08b2a5",
   "metadata": {},
   "source": [
    "## Trenowanie modelu szeregu czasowego "
   ]
  },
  {
   "cell_type": "code",
   "id": "7a335bf9a82ebc80",
   "metadata": {},
   "source": [
    "R_train = user_count_df['Q'].to_numpy().reshape(-1, 1) \n",
    "U_train = user_count_df['User count'].to_numpy().reshape(-1, 1)\n",
    "R_test = user_count_test_df['Q'].to_numpy().reshape(-1, 1)\n",
    "U_test = user_count_test_df['User count'].to_numpy().reshape(-1, 1)\n",
    "\n",
    "linear_regression = LinearRegression()\n",
    "linear_regression.fit(R_train, U_train)\n",
    "\n",
    "print(linear_regression)\n",
    "\n",
    "print(f'User count R^2: {linear_regression.score(R_test, U_test):}')\n",
    "print(f\"Model: U = {linear_regression.intercept_[0]:} + {linear_regression.coef_[0][0]:} * R\")"
   ],
   "outputs": [],
   "execution_count": null
  },
  {
   "cell_type": "markdown",
   "id": "4bcf767553946365",
   "metadata": {},
   "source": "# Errors for out model"
  },
  {
   "metadata": {},
   "cell_type": "code",
   "source": [
    "errors = calculate_model_stats(linear_regression.predict(R_train), U_train, R_train) \n",
    "print(errors)"
   ],
   "id": "e743760c18830136",
   "outputs": [],
   "execution_count": null
  },
  {
   "metadata": {},
   "cell_type": "markdown",
   "source": "## Wizualizacja modelu szeregu czasowego v1",
   "id": "3caebaf4544c88"
  },
  {
   "metadata": {},
   "cell_type": "code",
   "source": [
    "# Przygotowanie danych\n",
    "train_predictions = linear_regression.predict(R_train)\n",
    "test_predictions = linear_regression.predict(R_test)\n",
    "\n",
    "mse = mean_squared_error(U_train, train_predictions)\n",
    "std_dev = np.sqrt(mse)\n",
    "confidence_interval = 1.96 * std_dev  # 95% przedział ufności\n",
    "\n",
    "# Tworzenie wykresu\n",
    "plt.figure(figsize=(15, 8))\n",
    "\n",
    "# Dane treningowe\n",
    "plt.scatter(R_train, U_train, color='#1f77b4', alpha=0.6, s=50, \n",
    "           label='Liczba użytkowników prawdziwa (dane uczące)')\n",
    "plt.plot(R_train, train_predictions, color='#ff0000', linewidth=2,\n",
    "         label='Liczba użytkowników przewidywana (dane uczące)')\n",
    "\n",
    "# Dane testowe\n",
    "plt.scatter(R_test, U_test, color='#2ca02c', alpha=0.6, s=50,\n",
    "           label='Liczba użytkowników prawdziwa (dane testowe)')\n",
    "plt.plot(R_test, test_predictions, color='#ff7f0e', linewidth=2,\n",
    "         label='Liczba użytkowników przewidywana (dane testowe)')\n",
    "\n",
    "# Przedział ufności\n",
    "plt.fill_between(\n",
    "    np.concatenate([R_train.flatten(), R_test.flatten()]),\n",
    "    np.concatenate([train_predictions.flatten(), test_predictions.flatten()]) - confidence_interval,\n",
    "    np.concatenate([train_predictions.flatten(), test_predictions.flatten()]) + confidence_interval,\n",
    "    color='yellow', alpha=0.2, label='Odchylenie standardowe prognozy'\n",
    ")\n",
    "\n",
    "# Formatowanie wykresu\n",
    "plt.xlabel('Kwartał', fontsize=12)\n",
    "plt.ylabel('Liczba użytkowników [mln]', fontsize=12)\n",
    "plt.title('Prognoza liczby użytkowników Facebooka', fontsize=14, pad=20)\n",
    "plt.grid(True, alpha=0.3)\n",
    "plt.legend(bbox_to_anchor=(1.05, 1), loc='upper left')\n",
    "\n",
    "# Formatowanie osi X - teraz pokazujemy wszystkie kwartały\n",
    "plt.xticks(rotation=45)\n",
    "new_labels = []\n",
    "for q in range(60):\n",
    "    year = 8 + q // 4\n",
    "    quarter = q % 4 + 1\n",
    "    new_labels.append(f'Q{quarter} {year:02d}')\n",
    "plt.xticks(range(0, 60), new_labels, rotation=45, ha='right')\n",
    "\n",
    "# Dodanie informacji o R²\n",
    "plt.text(0.02, 0.95, f'R² (test) = {linear_regression.score(R_test, U_test):.4f}',\n",
    "         transform=plt.gca().transAxes,\n",
    "         bbox=dict(facecolor='white', edgecolor='gray', alpha=0.8))\n",
    "\n",
    "plt.tight_layout()\n",
    "plt.show()\n"
   ],
   "id": "538b609b706eb5cb",
   "outputs": [],
   "execution_count": null
  },
  {
   "metadata": {},
   "cell_type": "markdown",
   "source": "# Wizualizacja modelu szeregu czasowego v2",
   "id": "e153d13d74e488ba"
  },
  {
   "metadata": {},
   "cell_type": "code",
   "source": [
    "# Funckja zmieniona w celu lepszej czytelnosci\n",
    "def transform_number_to_quarter(number) -> str:\n",
    "    quarters = {0: 'Q1', 1: 'Q2', 2: 'Q3', 3: 'Q4'} \n",
    "    year = 2008 + (number // 4)\n",
    "    quarter = quarters[number % 4]\n",
    "    return f'{quarter} {year}'\n",
    "\n",
    "# Przygotowanie danych\n",
    "train_predictions = linear_regression.predict(R_train)\n",
    "test_predictions = linear_regression.predict(R_test)\n",
    "\n",
    "# Obliczanie przedziału ufności\n",
    "mse = mean_squared_error(U_train, train_predictions)\n",
    "std_dev = np.sqrt(mse)\n",
    "confidence_interval = 1.96 * std_dev  # 95% przedział ufności\n",
    "\n",
    "# Tworzenie wykresu z większym rozmiarem i lepszymi proporcjami\n",
    "plt.figure(figsize=(16, 9))\n",
    "\n",
    "# Konfiguracja stylu\n",
    "plt.style.use('seaborn-v0_8-deep')\n",
    "colors = {\n",
    "    'train_dots': '#1f77b4',\n",
    "    'train_line': '#ff0000',\n",
    "    'test_dots': '#2ca02c',\n",
    "    'test_line': '#ff7f0e',\n",
    "    'confidence': '#fff59d'\n",
    "}\n",
    "\n",
    "# Dane treningowe\n",
    "plt.scatter(R_train, U_train, color=colors['train_dots'], alpha=0.7, s=60, \n",
    "           label='Rzeczywista liczba użytkowników (dane uczące)',\n",
    "           edgecolor='white', linewidth=1)\n",
    "plt.plot(R_train, train_predictions, color=colors['train_line'], linewidth=2.5,\n",
    "         label='Prognozowana liczba użytkowników (dane uczące)')\n",
    "\n",
    "# Dane testowe\n",
    "plt.scatter(R_test, U_test, color=colors['test_dots'], alpha=0.7, s=60,\n",
    "           label='Rzeczywista liczba użytkowników (dane testowe)',\n",
    "           edgecolor='white', linewidth=1)\n",
    "plt.plot(R_test, test_predictions, color=colors['test_line'], linewidth=2.5,\n",
    "         label='Prognozowana liczba użytkowników (dane testowe)')\n",
    "\n",
    "# Przedział ufności z lepszą przezroczystością i kolorem\n",
    "all_quarters = np.concatenate([R_train.flatten(), R_test.flatten()])\n",
    "all_predictions = np.concatenate([train_predictions.flatten(), test_predictions.flatten()])\n",
    "plt.fill_between(\n",
    "    all_quarters,\n",
    "    all_predictions - confidence_interval,\n",
    "    all_predictions + confidence_interval,\n",
    "    color=colors['confidence'],\n",
    "    alpha=0.3,\n",
    "    label='95% przedział ufności'\n",
    ")\n",
    "\n",
    "# Formatowanie osi i etykiet\n",
    "plt.xlabel('Kwartał', fontsize=12, fontweight='bold')\n",
    "plt.ylabel('Liczba użytkowników [mln]', fontsize=12, fontweight='bold')\n",
    "plt.title('Prognoza liczby użytkowników Facebooka w latach 2008-2022', \n",
    "         fontsize=16, pad=20, fontweight='bold')\n",
    "\n",
    "# Generowanie etykiet osi X używając zdefiniowanych funkcji\n",
    "x_ticks = range(0, 60)\n",
    "x_labels = [transform_number_to_quarter(q) for q in x_ticks]\n",
    "plt.xticks(x_ticks, x_labels, rotation=45, ha='right')\n",
    "\n",
    "# Dodanie siatki z lepszą widocznością\n",
    "plt.grid(True, linestyle='--', alpha=0.3)\n",
    "\n",
    "# Lepsze umiejscowienie legendy i dodanie ramki\n",
    "legend = plt.legend(bbox_to_anchor=(1.15, 1), loc='upper left', \n",
    "                   frameon=True, fancybox=True, shadow=True)\n",
    "legend.get_frame().set_alpha(0.9)\n",
    "\n",
    "# Dodanie informacji o R² w lepszym formacie\n",
    "r2_score = linear_regression.score(R_test, U_test)\n",
    "stats_text = f'R² (test) = {r2_score:.4f}\\n'\n",
    "stats_text += f'RMSE = {np.sqrt(mse):.2f} mln'\n",
    "\n",
    "plt.text(0.02, 0.95, stats_text,\n",
    "         transform=plt.gca().transAxes,\n",
    "         bbox=dict(facecolor='white', \n",
    "                  edgecolor='gray', \n",
    "                  alpha=0.8,\n",
    "                  boxstyle='round,pad=0.5'),\n",
    "         fontsize=10)\n",
    "\n",
    "# Dodanie adnotacji dla ważnych punktów\n",
    "max_users_idx = np.argmax(U_test)\n",
    "plt.annotate(f'Maksimum: {U_test[max_users_idx][0]:.0f} mln',\n",
    "            xy=(R_test[max_users_idx], U_test[max_users_idx]),\n",
    "            xytext=(10, 10), textcoords='offset points',\n",
    "            bbox=dict(facecolor='white', edgecolor='gray', alpha=0.7),\n",
    "            arrowprops=dict(arrowstyle='->'))\n",
    "\n",
    "# Dostosowanie układu i marginesów \n",
    "plt.tight_layout()\n",
    "\n",
    "# Pokazanie wykresu\n",
    "plt.show()"
   ],
   "id": "5d7adc20fe017545",
   "outputs": [],
   "execution_count": null
  },
  {
   "metadata": {},
   "cell_type": "code",
   "source": "",
   "id": "3e91ac460fbe870f",
   "outputs": [],
   "execution_count": null
  }
 ],
 "metadata": {
  "kernelspec": {
   "display_name": "Python 3 (ipykernel)",
   "language": "python",
   "name": "python3"
  },
  "language_info": {
   "codemirror_mode": {
    "name": "ipython",
    "version": 3
   },
   "file_extension": ".py",
   "mimetype": "text/x-python",
   "name": "python",
   "nbconvert_exporter": "python",
   "pygments_lexer": "ipython3",
   "version": "3.12.7"
  }
 },
 "nbformat": 4,
 "nbformat_minor": 5
}
