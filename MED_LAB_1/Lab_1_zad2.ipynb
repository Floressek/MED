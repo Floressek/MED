{
 "cells": [
  {
   "cell_type": "code",
   "id": "initial_id",
   "metadata": {
    "collapsed": true
   },
   "source": [
    "import matplotlib.pyplot as plt\n",
    "import statsmodels.api as sm\n",
    "from pyexpat import features\n",
    "from sklearn.linear_model import LinearRegression, LassoCV\n",
    "from sklearn.model_selection import train_test_split, cross_val_score\n",
    "from sklearn.metrics import mean_squared_error, r2_score\n",
    "import pandas as pd\n",
    "import numpy as np\n",
    "from sklearn.preprocessing import StandardScaler\n",
    "from statsmodels.stats.outliers_influence import variance_inflation_factor"
   ],
   "outputs": [],
   "execution_count": null
  },
  {
   "metadata": {},
   "cell_type": "markdown",
   "source": "# 1. Wczytywanie danych",
   "id": "4ec6b49c2588c6ac"
  },
  {
   "metadata": {},
   "cell_type": "code",
   "source": [
    "file_path = \"data.txt\"\n",
    "data = pd.read_csv(file_path, delimiter= \"\\t\")  # Pomijamy opisowe linie\n",
    "# Wyświetlenie pierwszych wierszy\n",
    "print(data.head())\n"
   ],
   "id": "a3bc20fe0ba58fb6",
   "outputs": [],
   "execution_count": null
  },
  {
   "metadata": {},
   "cell_type": "markdown",
   "source": "# Wyświetlenie wszystkich wykresów punktowych oddzielnie",
   "id": "1f5ba8a8d56c7b95"
  },
  {
   "metadata": {},
   "cell_type": "code",
   "source": [
    "variables = data.columns.tolist()\n",
    "#ariables.remove(\"Pct.BF\")  # Usuwamy \"Pct.BF\", ponieważ jest zmienną zależną\n",
    "\n",
    "# Tworzenie wykresów punktowych\n",
    "for variable in variables:\n",
    "    plt.figure(figsize=(8, 6))\n",
    "    plt.scatter(data[variable], data[\"Pct.BF\"], alpha=0.7)\n",
    "    plt.title(f\"Wykres punktowy: Pct.BF vs {variable}\")\n",
    "    plt.xlabel(variable)\n",
    "    plt.ylabel(\"Pct.BF\")\n",
    "    plt.grid(True)\n",
    "    plt.show()  # Wyświetlenie każdego wykresu osobno"
   ],
   "id": "6159d09ad8fa62a",
   "outputs": [],
   "execution_count": null
  },
  {
   "metadata": {},
   "cell_type": "code",
   "source": [
    "fig, axs = plt.subplots(4, 4, figsize=(12, 12))\n",
    "i = 0\n",
    "\n",
    "for i, (name, X) in enumerate(data.items()):\n",
    "    row = i // 4\n",
    "    col = i % 4\n",
    "    \n",
    "    axs[row][col].scatter(X, data['Pct.BF'])\n",
    "    axs[row][col].set_xlabel(name)\n",
    "    axs[row][col].set_ylabel('Pct.BF')\n",
    "\n",
    "fig.tight_layout()\n",
    "fig.show()"
   ],
   "id": "2efe0ac2c9dae9e2",
   "outputs": [],
   "execution_count": null
  },
  {
   "metadata": {},
   "cell_type": "markdown",
   "source": "",
   "id": "b0eaabd3a6f0d443"
  },
  {
   "metadata": {},
   "cell_type": "code",
   "source": [
    "# Obliczenie macierzy korelacji\n",
    "correlation_matrix = data.corr()\n",
    "\n",
    "# Wyświetlenie korelacji z \"Pct.BF\"\n",
    "correlations_with_bodyfat = correlation_matrix[\"Pct.BF\"].sort_values(ascending=False)\n",
    "print(\"Korelacje ze zmienną 'Pct.BF':\\n\", correlations_with_bodyfat)\n"
   ],
   "id": "f1ab3c34327a7aee",
   "outputs": [],
   "execution_count": null
  },
  {
   "metadata": {},
   "cell_type": "markdown",
   "source": "# model ze wszystkimi zmiennymi:",
   "id": "316bedc37d376900"
  },
  {
   "metadata": {},
   "cell_type": "code",
   "source": [
    "# Lista wszystkich zmiennych predykcyjnych (pomijając zmienną zależną \"Pct.BF\")\n",
    "predictors = [col for col in data.columns if col != \"Pct.BF\"]\n",
    "\n",
    "# Przygotowanie danych\n",
    "X = sm.add_constant(data[predictors])  # Wszystkie zmienne predykcyjne + stała\n",
    "y = data[\"Pct.BF\"]  # Zmienna zależna\n",
    "\n",
    "# Tworzenie pełnego modelu\n",
    "model = sm.OLS(y, X).fit()\n",
    "\n",
    "# Raport modelu regresji (wyniki statystyczne)\n",
    "print(model.summary())\n"
   ],
   "id": "fac5a406afc69a5d",
   "outputs": [],
   "execution_count": null
  },
  {
   "metadata": {},
   "cell_type": "markdown",
   "source": "# FORWARD SELECTION",
   "id": "a8d5591d952632c4"
  },
  {
   "metadata": {},
   "cell_type": "code",
   "source": [
    "#Forward selection na p-value\n",
    "X = data.drop(columns=[\"Pct.BF\"])\n",
    "y = data[\"Pct.BF\"]\n",
    "def forward_selection_pvalue(X, y, significance_level=0.05, verbose=True):\n",
    "   \n",
    "    initial_list = []  # Lista wybranych zmiennych (na początku pusta)\n",
    "    remaining_features = list(X.columns)  # Wszystkie dostępne zmienne\n",
    "    step = 0\n",
    "    best_model = None\n",
    "\n",
    "    while len(remaining_features) > 0:\n",
    "        p_values = pd.Series(index=remaining_features)\n",
    "        for feature in remaining_features:\n",
    "            temp_features = initial_list + [feature]\n",
    "            model = sm.OLS(y, sm.add_constant(X[temp_features])).fit()\n",
    "            p_values[feature] = model.pvalues[feature]\n",
    "\n",
    "        min_p_value = p_values.min()\n",
    "        best_feature = p_values.idxmin()\n",
    "\n",
    "        if min_p_value < significance_level:\n",
    "            step += 1\n",
    "            initial_list.append(best_feature)\n",
    "            remaining_features.remove(best_feature)\n",
    "            best_model = sm.OLS(y, sm.add_constant(X[initial_list])).fit()\n",
    "            if verbose:\n",
    "                print(f\"Krok {step}: Added {best_feature}, p-value = {min_p_value}\")\n",
    "        else:\n",
    "            break\n",
    "\n",
    "    return best_model\n"
   ],
   "id": "ef102ba63e0acf95",
   "outputs": [],
   "execution_count": null
  },
  {
   "metadata": {},
   "cell_type": "code",
   "source": [
    "# Regresja krokowa w przód oparta na p-wartościach\n",
    "# Standaryzacja predyktorów\n",
    "scaler = StandardScaler()\n",
    "X_scaled = pd.DataFrame(scaler.fit_transform(X), columns=X.columns)\n",
    "X_scaled = sm.add_constant(X_scaled)  # Dodawanie stałej \n",
    "\n",
    "print(\"\\nKroki regresji krokowej w przód na podstawie p-wartości:\")\n",
    "final_model_forward = forward_selection_pvalue(X_scaled, y)\n",
    "\n",
    "\n",
    "print(\"\\nFinal Model Coefficients (Forward Selection):\")\n",
    "print(final_model_forward.params)\n",
    "\n",
    "print(\"\\nPodsumowanie finalnego modelu:\")\n",
    "print(final_model_forward.summary())\n"
   ],
   "id": "981b0e5f279b9652",
   "outputs": [],
   "execution_count": null
  },
  {
   "metadata": {},
   "cell_type": "markdown",
   "source": "# LASSO",
   "id": "d483cbe4e52d4a59"
  },
  {
   "metadata": {},
   "cell_type": "code",
   "source": [
    "# Skalowanie danych\n",
    "X_train, X_test, y_train, y_test = train_test_split(X, y, test_size=0.2, random_state=42)\n",
    "scaler = StandardScaler()\n",
    "X_train_scaled = scaler.fit_transform(X_train)\n",
    "X_test_scaled = scaler.transform(X_test)\n",
    "\n",
    "# Selekcja zmiennych (jeśli jest już gotowa lista 'selected_features')\n",
    "# Jeśli nie masz wybranych zmiennych, użyj wszystkich\n",
    "selected_features = X.columns.tolist()\n",
    "X_train_selected = X_train_scaled[:, [X.columns.get_loc(f) for f in selected_features]]\n",
    "X_test_selected = X_test_scaled[:, [X.columns.get_loc(f) for f in selected_features]]\n",
    "\n",
    "# LASSO z walidacją krzyżową (5-krotny podział)\n",
    "lasso_cv = LassoCV(cv=5, random_state=42).fit(X_train_selected, y_train)\n",
    "optimal_alpha = lasso_cv.alpha_\n",
    "print('Optymalne alpha LASSO: ', optimal_alpha)\n",
    "print(\"Współczynniki LASSO:\")\n",
    "print(pd.Series(lasso_cv.coef_, index=selected_features))\n",
    "\n",
    "# Ocena na danych testowych\n",
    "y_pred = lasso_cv.predict(X_test_selected)\n",
    "mse = mean_squared_error(y_test, y_pred)\n",
    "r2 = r2_score(y_test, y_pred)\n",
    "\n",
    "print(\"Błąd MSE na danych testowych:\", mse)\n",
    "print(\"Współczynnik determinacji (R²):\", r2)"
   ],
   "id": "c407a0cb4ae57a22",
   "outputs": [],
   "execution_count": null
  },
  {
   "metadata": {},
   "cell_type": "code",
   "source": [
    "plt.scatter(y_test, y_pred)\n",
    "plt.xlabel(\"Rzeczywiste wartości (Pct.BF)\")\n",
    "plt.ylabel(\"Przewidywane wartości (Pct.BF)\")\n",
    "plt.title(\"Rzeczywiste vs Przewidywane\")\n",
    "plt.show()"
   ],
   "id": "93f45af27149276e",
   "outputs": [],
   "execution_count": null
  },
  {
   "metadata": {},
   "cell_type": "markdown",
   "source": "# Backward SELECTION na p-value",
   "id": "6cdc7db458f17867"
  },
  {
   "metadata": {},
   "cell_type": "code",
   "source": [
    "def backward_selection_pvalue(X, y, significance_level=0.05, verbose=True):\n",
    "    \n",
    "    initial_list = X.columns.tolist()\n",
    "    step = 0\n",
    "    while True:\n",
    "        model = sm.OLS(y, X).fit()\n",
    "        p_values = model.pvalues[1:]  # Pomijamy stałą \n",
    "        max_p_value = p_values.max()\n",
    "        \n",
    "        if max_p_value > significance_level:\n",
    "            step += 1\n",
    "            worst_feature = p_values.idxmax()\n",
    "            if verbose:\n",
    "                print(f\"Krok {step}: Removed {worst_feature}, p-value = {max_p_value}\")\n",
    "            X = X.drop(columns=[worst_feature])\n",
    "        else:\n",
    "            break\n",
    "    \n",
    "    return model\n"
   ],
   "id": "47259181d3be5762",
   "outputs": [],
   "execution_count": null
  },
  {
   "metadata": {},
   "cell_type": "code",
   "source": [
    "# Standaryzacja predyktorów\n",
    "scaler = StandardScaler()\n",
    "X_scaled = pd.DataFrame(scaler.fit_transform(X), columns=X.columns)\n",
    "X_scaled = sm.add_constant(X_scaled)  # Dodawanie stałą (intercept)\n",
    "\n",
    "# Regresja wsteczna oparta na p-wartościach\n",
    "print(\"\\nKroki regresji wstecznej na podstawie p-wartości:\")\n",
    "final_model = backward_selection_pvalue(X_scaled, y)\n",
    "\n",
    "print(\"\\nFinal Model Coefficients:\")\n",
    "print(final_model.params)\n",
    "\n",
    "\n",
    "print(\"\\nPodsumowanie finalnego modelu:\")\n",
    "print(final_model.summary())\n"
   ],
   "id": "e797cde3cf353b56",
   "outputs": [],
   "execution_count": null
  },
  {
   "metadata": {},
   "cell_type": "markdown",
   "source": "# Nowy model - predykcja wagi",
   "id": "d5b0e4287cec95cc"
  },
  {
   "metadata": {},
   "cell_type": "code",
   "source": [
    "X = data.drop(columns=[\"Weight\"])\n",
    "y = data[\"Weight\"]\n",
    "\n",
    "#Backward Rgression:\n",
    "def backward_selection_weight(X, y, significance_level=0.05, verbose=True):\n",
    "    initial_list = X.columns.tolist()\n",
    "    step = 0\n",
    "    while True:\n",
    "        model = sm.OLS(y, X).fit()\n",
    "        p_values = model.pvalues[1:]  # Pomijamy stałą\n",
    "        max_p_value = p_values.max()\n",
    "        \n",
    "        if max_p_value > significance_level:\n",
    "            step += 1\n",
    "            worst_feature = p_values.idxmax()\n",
    "            if verbose:\n",
    "                print(f\"Krok {step}: Removed {worst_feature}, p-value = {max_p_value}\")\n",
    "            X = X.drop(columns=[worst_feature])\n",
    "        else:\n",
    "            break\n",
    "    \n",
    "    return model\n"
   ],
   "id": "f2c54d88b45d5a71",
   "outputs": [],
   "execution_count": null
  },
  {
   "metadata": {},
   "cell_type": "code",
   "source": [
    "# Standaryzacja predyktorów\n",
    "scaler = StandardScaler()\n",
    "X_scaled = pd.DataFrame(scaler.fit_transform(X), columns=X.columns)\n",
    "X_scaled = sm.add_constant(X_scaled)  # Dodawanie stałą (intercept)\n",
    "\n",
    "# Regresja wsteczna oparta na p-wartościach\n",
    "print(\"\\nKroki regresji wstecznej na podstawie p-wartości:\")\n",
    "final_model = backward_selection_pvalue(X_scaled, y)\n",
    "\n",
    "print(\"\\nFinal Model Coefficients:\")\n",
    "print(final_model.params)\n",
    "\n",
    "\n",
    "print(\"\\nPodsumowanie finalnego modelu:\")\n",
    "print(final_model.summary())"
   ],
   "id": "db52b71cb78cf81e",
   "outputs": [],
   "execution_count": null
  }
 ],
 "metadata": {
  "kernelspec": {
   "display_name": "Python 3",
   "language": "python",
   "name": "python3"
  },
  "language_info": {
   "codemirror_mode": {
    "name": "ipython",
    "version": 2
   },
   "file_extension": ".py",
   "mimetype": "text/x-python",
   "name": "python",
   "nbconvert_exporter": "python",
   "pygments_lexer": "ipython2",
   "version": "2.7.6"
  }
 },
 "nbformat": 4,
 "nbformat_minor": 5
}
