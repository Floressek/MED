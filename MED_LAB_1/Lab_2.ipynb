{
 "cells": [
  {
   "cell_type": "code",
   "id": "initial_id",
   "metadata": {
    "collapsed": true
   },
   "source": [
    "import matplotlib.pyplot as plt\n",
    "import statsmodels.api as sm\n",
    "from sklearn.linear_model import LinearRegression, LassoCV\n",
    "from sklearn.model_selection import train_test_split, cross_val_score\n",
    "from sklearn.metrics import mean_squared_error\n",
    "import pandas as pd\n",
    "import numpy as np"
   ],
   "outputs": [],
   "execution_count": null
  },
  {
   "metadata": {},
   "cell_type": "markdown",
   "source": "# 1. Wczytywanie danych",
   "id": "4ec6b49c2588c6ac"
  },
  {
   "metadata": {},
   "cell_type": "code",
   "source": [
    "file_path = \"data.txt\"\n",
    "data = pd.read_csv(file_path, delimiter= \"\\t\")  # Pomijamy opisowe linie\n",
    "# Wyświetlenie pierwszych wierszy\n",
    "print(data.head())\n"
   ],
   "id": "a3bc20fe0ba58fb6",
   "outputs": [],
   "execution_count": null
  },
  {
   "metadata": {},
   "cell_type": "markdown",
   "source": "# Wyświetlenie wszystkich wykresów punktowych oddzielnie",
   "id": "1f5ba8a8d56c7b95"
  },
  {
   "metadata": {},
   "cell_type": "code",
   "source": [
    "variables = data.columns.tolist()\n",
    "#ariables.remove(\"Pct.BF\")  # Usuwamy \"Pct.BF\", ponieważ jest zmienną zależną\n",
    "\n",
    "# Tworzenie wykresów punktowych\n",
    "for variable in variables:\n",
    "    plt.figure(figsize=(8, 6))\n",
    "    plt.scatter(data[variable], data[\"Pct.BF\"], alpha=0.7)\n",
    "    plt.title(f\"Wykres punktowy: Pct.BF vs {variable}\")\n",
    "    plt.xlabel(variable)\n",
    "    plt.ylabel(\"Pct.BF\")\n",
    "    plt.grid(True)\n",
    "    plt.show()  # Wyświetlenie każdego wykresu osobno"
   ],
   "id": "6159d09ad8fa62a",
   "outputs": [],
   "execution_count": null
  },
  {
   "metadata": {},
   "cell_type": "code",
   "source": [
    "fig, axs = plt.subplots(4, 4, figsize=(12, 12))\n",
    "i = 0\n",
    "\n",
    "for i, (name, X) in enumerate(data.items()):\n",
    "    row = i // 4\n",
    "    col = i % 4\n",
    "    \n",
    "    axs[row][col].scatter(X, data['Pct.BF'])\n",
    "    axs[row][col].set_xlabel(name)\n",
    "    axs[row][col].set_ylabel('Pct.BF')\n",
    "\n",
    "fig.tight_layout()\n",
    "fig.show()"
   ],
   "id": "2efe0ac2c9dae9e2",
   "outputs": [],
   "execution_count": null
  },
  {
   "metadata": {},
   "cell_type": "markdown",
   "source": "",
   "id": "b0eaabd3a6f0d443"
  },
  {
   "metadata": {},
   "cell_type": "code",
   "source": [
    "# Obliczenie macierzy korelacji\n",
    "correlation_matrix = data.corr()\n",
    "\n",
    "# Wyświetlenie korelacji z \"Pct.BF\"\n",
    "correlations_with_bodyfat = correlation_matrix[\"Pct.BF\"].sort_values(ascending=False)\n",
    "print(\"Korelacje ze zmienną 'Pct.BF':\\n\", correlations_with_bodyfat)\n"
   ],
   "id": "f1ab3c34327a7aee",
   "outputs": [],
   "execution_count": null
  },
  {
   "metadata": {},
   "cell_type": "markdown",
   "source": "# model ze wszystkimi zmiennymi:",
   "id": "316bedc37d376900"
  },
  {
   "metadata": {},
   "cell_type": "code",
   "source": [
    "# Lista wszystkich zmiennych predykcyjnych (pomijając zmienną zależną \"Pct.BF\")\n",
    "predictors = [col for col in data.columns if col != \"Pct.BF\"]\n",
    "\n",
    "# Przygotowanie danych\n",
    "X = sm.add_constant(data[predictors])  # Wszystkie zmienne predykcyjne + stała\n",
    "y = data[\"Pct.BF\"]  # Zmienna zależna\n",
    "\n",
    "# Tworzenie pełnego modelu\n",
    "model = sm.OLS(y, X).fit()\n",
    "\n",
    "# Raport modelu regresji (wyniki statystyczne)\n",
    "print(model.summary())\n"
   ],
   "id": "fac5a406afc69a5d",
   "outputs": [],
   "execution_count": null
  },
  {
   "metadata": {},
   "cell_type": "markdown",
   "source": "# LASSO",
   "id": "a8d5591d952632c4"
  },
  {
   "metadata": {},
   "cell_type": "code",
   "source": [
    "X = data.drop(columns=[\"Pct.BF\"])\n",
    "y = data[\"Pct.BF\"]\n",
    "\n",
    "# Podział na dane treningowe i testowe\n",
    "X_train, X_test, y_train, y_test = train_test_split(X, y, test_size=0.2, random_state=42)\n",
    "\n",
    "# Skalowanie danych\n",
    "from sklearn.preprocessing import StandardScaler\n",
    "scaler = StandardScaler()\n",
    "X_train_scaled = scaler.fit_transform(X_train)\n",
    "X_test_scaled = scaler.transform(X_test)\n",
    "\n",
    "#Forawrd selection:\n",
    "def forward_selection(X, y):\n",
    "    remaining_features = list(X.columns)\n",
    "    selected_features = []\n",
    "    current_score, best_new_score = float('-inf'), float('-inf')\n",
    "\n",
    "    while remaining_features:\n",
    "        scores_with_candidates = []\n",
    "        for candidate in remaining_features:\n",
    "            features_to_test = selected_features + [candidate]\n",
    "            model = LinearRegression()\n",
    "            score = cross_val_score(model, X[features_to_test], y, cv=5, scoring='neg_mean_squared_error').mean()\n",
    "            scores_with_candidates.append((score, candidate))\n",
    "\n",
    "        scores_with_candidates.sort()\n",
    "        best_new_score, best_candidate = scores_with_candidates.pop()\n",
    "        if best_new_score > current_score:\n",
    "            remaining_features.remove(best_candidate)\n",
    "            selected_features.append(best_candidate)\n",
    "            current_score = best_new_score\n",
    "        else:\n",
    "            break\n",
    "\n",
    "    return selected_features\n",
    "\n",
    "# Forward Selection\n",
    "selected_features = forward_selection(pd.DataFrame(X_train_scaled, columns=X.columns), y_train)\n",
    "print(\"Wybrane zmienne przez Forward Selection:\", selected_features)\n",
    "\n",
    "# --- LASSO ---\n",
    "# Wybrane zmienne przez Forward Selection\n",
    "X_train_selected = X_train_scaled[:, [X.columns.get_loc(f) for f in selected_features]]\n",
    "X_test_selected = X_test_scaled[:, [X.columns.get_loc(f) for f in selected_features]]\n",
    "\n",
    "# LASSO z walidacją krzyżową\n",
    "lasso_cv = LassoCV(cv=5, random_state=42).fit(X_train_selected, y_train)\n",
    "print(\"Optymalne alpha LASSO:\", lasso_cv.alpha_)\n",
    "print(\"Współczynniki LASSO:\")\n",
    "print(pd.Series(lasso_cv.coef_, index=selected_features))\n",
    "\n",
    "# Ocena na danych testowych\n",
    "y_pred = lasso_cv.predict(X_test_selected)\n",
    "mse = mean_squared_error(y_test, y_pred)\n",
    "print(\"Błąd MSE na danych testowych:\", mse)"
   ],
   "id": "74a5d5c356f23b71",
   "outputs": [],
   "execution_count": null
  }
 ],
 "metadata": {
  "kernelspec": {
   "display_name": "Python 3",
   "language": "python",
   "name": "python3"
  },
  "language_info": {
   "codemirror_mode": {
    "name": "ipython",
    "version": 2
   },
   "file_extension": ".py",
   "mimetype": "text/x-python",
   "name": "python",
   "nbconvert_exporter": "python",
   "pygments_lexer": "ipython2",
   "version": "2.7.6"
  }
 },
 "nbformat": 4,
 "nbformat_minor": 5
}
