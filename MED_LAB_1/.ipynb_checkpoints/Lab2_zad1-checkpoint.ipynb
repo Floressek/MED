{
 "cells": [
  {
   "metadata": {
    "ExecuteTime": {
     "end_time": "2024-12-08T00:26:44.804625Z",
     "start_time": "2024-12-08T00:26:44.798271Z"
    }
   },
   "cell_type": "code",
   "source": [
    "import pandas as pd\n",
    "from sklearn.linear_model import LinearRegression\n",
    "import matplotlib.pyplot as plt\n",
    "import numpy as np\n"
   ],
   "id": "c0237589ea4582e3",
   "outputs": [],
   "execution_count": 30
  },
  {
   "metadata": {
    "collapsed": true,
    "ExecuteTime": {
     "end_time": "2024-12-08T00:26:44.835295Z",
     "start_time": "2024-12-08T00:26:44.827953Z"
    }
   },
   "cell_type": "code",
   "source": [
    "data = {\n",
    "    'College level' : [1, 2, 5, 1, 4, 3, 2, 1, 5, 2, 3, 4, 1, 2,\n",
    "                   5, 4, 3, 1, 4, 5, 2, 5, 3, 4, 3, 2, 5, 1],\n",
    "    'Marital status' : [0, 0, 1, 0, 1, 0, 1, 0, 1, 0, 1, 1, 0, 0,\n",
    "                        1, 1, 1, 1, 1, 0, 0, 1, 0, 0, 1, 0, 1, 0] # 1 - małżeństwo, 0 - wolny\n",
    "}"
   ],
   "id": "initial_id",
   "outputs": [],
   "execution_count": 31
  },
  {
   "metadata": {
    "ExecuteTime": {
     "end_time": "2024-12-08T00:26:44.910558Z",
     "start_time": "2024-12-08T00:26:44.899321Z"
    }
   },
   "cell_type": "code",
   "source": [
    "data_df = pd.DataFrame(data)\n",
    "print(data_df)"
   ],
   "id": "82ad85837af93690",
   "outputs": [
    {
     "name": "stdout",
     "output_type": "stream",
     "text": [
      "    College level  Marital status\n",
      "0               1               0\n",
      "1               2               0\n",
      "2               5               1\n",
      "3               1               0\n",
      "4               4               1\n",
      "5               3               0\n",
      "6               2               1\n",
      "7               1               0\n",
      "8               5               1\n",
      "9               2               0\n",
      "10              3               1\n",
      "11              4               1\n",
      "12              1               0\n",
      "13              2               0\n",
      "14              5               1\n",
      "15              4               1\n",
      "16              3               1\n",
      "17              1               1\n",
      "18              4               1\n",
      "19              5               0\n",
      "20              2               0\n",
      "21              5               1\n",
      "22              3               0\n",
      "23              4               0\n",
      "24              3               1\n",
      "25              2               0\n",
      "26              5               1\n",
      "27              1               0\n"
     ]
    }
   ],
   "execution_count": 32
  },
  {
   "metadata": {},
   "cell_type": "markdown",
   "source": "",
   "id": "96e522a3b8f5fd24"
  },
  {
   "metadata": {},
   "cell_type": "markdown",
   "source": [
    "# MODEL LOGITOWY \n",
    "\n",
    "Logistic regression bounds output to 0 and 1 and the output of it is the probabilities of a specific class and these probabilities can be converted into class predictions\n"
   ],
   "id": "1efe5ee42192ed8c"
  },
  {
   "metadata": {
    "ExecuteTime": {
     "end_time": "2024-12-08T00:26:44.985034Z",
     "start_time": "2024-12-08T00:26:44.963952Z"
    }
   },
   "cell_type": "code",
   "source": [
    "def calculate_logit(data):\n",
    "    grouped = data.groupby('College level')['Marital status'].agg(\n",
    "        numberOfStudents = 'count',\n",
    "        married = 'sum'\n",
    "    ).reset_index()\n",
    "    \n",
    "    grouped['p'] = grouped['married'] / grouped['numberOfStudents']\n",
    "    grouped['logit'] = np.log(grouped['p'] / (1 - grouped['p']))\n",
    "    return grouped\n",
    "\n",
    "#przygotowywanie danych logitowych:\n",
    "logit_data = calculate_logit(data_df)\n",
    "print(logit_data)"
   ],
   "id": "4489e83570ea8cb6",
   "outputs": [
    {
     "name": "stdout",
     "output_type": "stream",
     "text": [
      "   College level  numberOfStudents  married         p     logit\n",
      "0              1                 6        1  0.166667 -1.609438\n",
      "1              2                 6        1  0.166667 -1.609438\n",
      "2              3                 5        3  0.600000  0.405465\n",
      "3              4                 5        4  0.800000  1.386294\n",
      "4              5                 6        5  0.833333  1.609438\n"
     ]
    }
   ],
   "execution_count": 33
  },
  {
   "metadata": {
    "ExecuteTime": {
     "end_time": "2024-12-08T00:26:45.078709Z",
     "start_time": "2024-12-08T00:26:45.044548Z"
    }
   },
   "cell_type": "code",
   "source": [
    "linear_model = LinearRegression()\n",
    "linear_model.fit(data_df[['College level']], data_df['Marital status'])\n",
    "\n",
    "#dopasowanie modelu logitowego:\n",
    "logit_model = LinearRegression()\n",
    "logit_model.fit(logit_data[['College level']], logit_data[['logit']])\n",
    "\n",
    "#zakres predykcji:\n",
    "X_range = np.linspace(data_df['College level'].min() - 1, data_df['College level'].max() + 1, 100).reshape(-1, 1)\n",
    "linear_predicts = linear_model.predict(X_range)\n",
    "\n",
    "#p-ństwa dla modelu logitowego\n",
    "beta0 = logit_model.intercept_[0]\n",
    "beta1 = logit_model.coef_[0][0]\n",
    "print(f\"b0: {beta0}\")\n",
    "print(f\"b1: {beta1}\")"
   ],
   "id": "d37bf21aff74ef7c",
   "outputs": [
    {
     "name": "stdout",
     "output_type": "stream",
     "text": [
      "b0: -2.7935808656283285\n",
      "b1: 0.9433483923290398\n"
     ]
    },
    {
     "name": "stderr",
     "output_type": "stream",
     "text": [
      "C:\\Users\\iskow\\PycharmProjects\\MedTestyIS\\.venv\\Lib\\site-packages\\sklearn\\base.py:493: UserWarning: X does not have valid feature names, but LinearRegression was fitted with feature names\n",
      "  warnings.warn(\n"
     ]
    }
   ],
   "execution_count": 34
  },
  {
   "metadata": {
    "ExecuteTime": {
     "end_time": "2024-12-08T00:26:45.144856Z",
     "start_time": "2024-12-08T00:26:45.134720Z"
    }
   },
   "cell_type": "code",
   "source": [
    "logit_predicts = 1 / (1 + np.exp(-(beta0 + beta1 * X_range))) #sigmoid func\n",
    "print(logit_predicts) #predykcje modelu logitowego"
   ],
   "id": "60abb003fa1cac8a",
   "outputs": [
    {
     "name": "stdout",
     "output_type": "stream",
     "text": [
      "[[0.05767204]\n",
      " [0.06085887]\n",
      " [0.06420979]\n",
      " [0.06773191]\n",
      " [0.07143249]\n",
      " [0.07531891]\n",
      " [0.0793987 ]\n",
      " [0.08367948]\n",
      " [0.08816895]\n",
      " [0.09287488]\n",
      " [0.09780504]\n",
      " [0.1029672 ]\n",
      " [0.1083691 ]\n",
      " [0.11401837]\n",
      " [0.11992252]\n",
      " [0.1260889 ]\n",
      " [0.13252461]\n",
      " [0.13923646]\n",
      " [0.14623095]\n",
      " [0.15351413]\n",
      " [0.16109161]\n",
      " [0.16896847]\n",
      " [0.17714914]\n",
      " [0.18563741]\n",
      " [0.19443629]\n",
      " [0.20354798]\n",
      " [0.21297378]\n",
      " [0.22271401]\n",
      " [0.23276796]\n",
      " [0.2431338 ]\n",
      " [0.25380855]\n",
      " [0.26478801]\n",
      " [0.27606671]\n",
      " [0.28763787]\n",
      " [0.29949339]\n",
      " [0.3116238 ]\n",
      " [0.32401826]\n",
      " [0.3366646 ]\n",
      " [0.34954929]\n",
      " [0.36265751]\n",
      " [0.37597315]\n",
      " [0.38947893]\n",
      " [0.40315643]\n",
      " [0.41698619]\n",
      " [0.43094781]\n",
      " [0.44502008]\n",
      " [0.45918107]\n",
      " [0.4734083 ]\n",
      " [0.48767884]\n",
      " [0.50196949]\n",
      " [0.51625692]\n",
      " [0.53051783]\n",
      " [0.54472908]\n",
      " [0.55886784]\n",
      " [0.57291178]\n",
      " [0.58683915]\n",
      " [0.60062895]\n",
      " [0.61426102]\n",
      " [0.62771619]\n",
      " [0.64097635]\n",
      " [0.65402452]\n",
      " [0.66684495]\n",
      " [0.67942317]\n",
      " [0.69174602]\n",
      " [0.70380169]\n",
      " [0.71557973]\n",
      " [0.72707105]\n",
      " [0.73826791]\n",
      " [0.74916388]\n",
      " [0.75975387]\n",
      " [0.770034  ]\n",
      " [0.78000163]\n",
      " [0.78965523]\n",
      " [0.79899439]\n",
      " [0.80801971]\n",
      " [0.81673274]\n",
      " [0.8251359 ]\n",
      " [0.83323244]\n",
      " [0.84102631]\n",
      " [0.84852216]\n",
      " [0.8557252 ]\n",
      " [0.86264117]\n",
      " [0.86927626]\n",
      " [0.87563705]\n",
      " [0.88173045]\n",
      " [0.88756362]\n",
      " [0.89314396]\n",
      " [0.89847902]\n",
      " [0.90357648]\n",
      " [0.90844406]\n",
      " [0.91308956]\n",
      " [0.91752075]\n",
      " [0.92174537]\n",
      " [0.92577112]\n",
      " [0.92960558]\n",
      " [0.93325624]\n",
      " [0.93673046]\n",
      " [0.94003546]\n",
      " [0.94317829]\n",
      " [0.94616583]]\n"
     ]
    }
   ],
   "execution_count": 35
  },
  {
   "metadata": {
    "ExecuteTime": {
     "end_time": "2024-12-08T00:26:45.776012Z",
     "start_time": "2024-12-08T00:26:45.202722Z"
    }
   },
   "cell_type": "code",
   "source": [
    "\n",
    "# Wykres\n",
    "plt.figure(figsize=(10, 6))\n",
    "plt.scatter(data_df['College level'], data_df['Marital status'], label='Dane rzeczywiste', alpha=0.7)\n",
    "plt.plot(X_range, linear_predicts, color='red', label='Krzywa sigmoidalna (logitowy model)')\n",
    "plt.plot(X_range, logit_predicts, color='blue', label='Linia regresji liniowej')\n",
    "\n",
    "# Oznaczenia osi\n",
    "plt.ylabel('Marital status')\n",
    "plt.xlabel('College level')\n",
    "plt.legend()\n",
    "plt.show()"
   ],
   "id": "11218484a70ef7fb",
   "outputs": [
    {
     "data": {
      "text/plain": [
       "<Figure size 1000x600 with 1 Axes>"
      ],
      "image/png": "[encoded data removed]"
     },
     "metadata": {},
     "output_type": "display_data"
    }
   ],
   "execution_count": 36
  },
  {
   "metadata": {},
   "cell_type": "markdown",
   "source": "# MODEL LINIOWY - współczynniki i R2",
   "id": "8e15c357febf295a"
  },
  {
   "metadata": {
    "ExecuteTime": {
     "end_time": "2024-12-08T00:26:45.821773Z",
     "start_time": "2024-12-08T00:26:45.810498Z"
    }
   },
   "cell_type": "code",
   "source": [
    "linear_coef = linear_model.coef_[0]\n",
    "linear_intercept = linear_model.intercept_\n",
    "linear_r2 = linear_model.score(data_df[['College level']], data_df['Marital status'])\n",
    "\n",
    "print(\"Współczynnik kierunkowy a1: \", linear_coef)\n",
    "print(\"Wyraz wolny a0: \", linear_intercept)\n",
    "print(\"R2: \", linear_r2)\n",
    "\n",
    "print(f\"Model liniowy: m = {linear_coef} + {linear_intercept} * c\")"
   ],
   "id": "b6021efbddc76163",
   "outputs": [
    {
     "name": "stdout",
     "output_type": "stream",
     "text": [
      "Współczynnik kierunkowy a1:  0.1950333131435494\n",
      "Wyraz wolny a0:  -0.0781344639612358\n",
      "R2:  0.3204118715929739\n",
      "Model liniowy: m = 0.1950333131435494 + -0.0781344639612358 * c\n"
     ]
    }
   ],
   "execution_count": 37
  },
  {
   "metadata": {
    "ExecuteTime": {
     "end_time": "2024-12-08T00:26:45.949126Z",
     "start_time": "2024-12-08T00:26:45.934221Z"
    }
   },
   "cell_type": "code",
   "source": [
    "#Przygotowanie danych rzeczywistych\n",
    "logit_data = calculate_logit(data_df)\n",
    "\n",
    "#wyciągnięcie predykcji modelu dla tych samych poziomów studiów\n",
    "predicted_probs = 1 / (1 + np.exp(-(beta0 + beta1 * logit_data['College level'].values)))\n",
    "\n",
    "logit_data['predicted_p'] = predicted_probs\n",
    "\n",
    "print(logit_data[['College level', 'p', 'predicted_p']])\n"
   ],
   "id": "1450949776f868c9",
   "outputs": [
    {
     "name": "stdout",
     "output_type": "stream",
     "text": [
      "   College level         p  predicted_p\n",
      "0              1  0.166667     0.135846\n",
      "1              2  0.166667     0.287638\n",
      "2              3  0.600000     0.509115\n",
      "3              4  0.800000     0.727071\n",
      "4              5  0.833333     0.872491\n"
     ]
    }
   ],
   "execution_count": 38
  },
  {
   "metadata": {
    "ExecuteTime": {
     "end_time": "2024-12-08T00:26:46.093581Z",
     "start_time": "2024-12-08T00:26:46.085338Z"
    }
   },
   "cell_type": "code",
   "source": [
    "logit_data['error'] = logit_data['p'] - logit_data['predicted_p']\n",
    "\n",
    "#(MAE):\n",
    "mae = abs(logit_data['error']).mean()\n",
    "print(f\"Średni błąd bezwzględny (MAE): {mae}\")\n"
   ],
   "id": "7b52b7c11b4beaa2",
   "outputs": [
    {
     "name": "stdout",
     "output_type": "stream",
     "text": [
      "Średni błąd bezwzględny (MAE): 0.070952667895995\n"
     ]
    }
   ],
   "execution_count": 39
  }
 ],
 "metadata": {
  "kernelspec": {
   "display_name": "Python 3",
   "language": "python",
   "name": "python3"
  },
  "language_info": {
   "codemirror_mode": {
    "name": "ipython",
    "version": 2
   },
   "file_extension": ".py",
   "mimetype": "text/x-python",
   "name": "python",
   "nbconvert_exporter": "python",
   "pygments_lexer": "ipython2",
   "version": "2.7.6"
  }
 },
 "nbformat": 4,
 "nbformat_minor": 5
}
