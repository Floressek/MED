{
 "cells": [
  {
   "metadata": {},
   "cell_type": "markdown",
   "source": "## Import paczek potrzebnych do laboratorium",
   "id": "6529bab4f5001d51"
  },
  {
   "metadata": {
    "ExecuteTime": {
     "end_time": "2024-11-07T16:01:47.194420Z",
     "start_time": "2024-11-07T16:01:47.191148Z"
    }
   },
   "cell_type": "code",
   "source": [
    "import sklearn\n",
    "import numpy as np\n",
    "import pandas as pd\n",
    "import matplotlib.pyplot as plt"
   ],
   "id": "fbc121e30a2defb3",
   "outputs": [],
   "execution_count": 5
  },
  {
   "metadata": {},
   "cell_type": "markdown",
   "source": "## Liczba uzytkownikow w kolejnych kwartalach (Facebook)",
   "id": "acca8714116390f8"
  },
  {
   "metadata": {
    "ExecuteTime": {
     "end_time": "2024-11-07T16:01:47.198212Z",
     "start_time": "2024-11-07T16:01:47.195425Z"
    }
   },
   "cell_type": "code",
   "source": [
    "user_count_q = {\n",
    "    'Q':\n",
    "        ['Q3 08', 'Q1 09', 'Q2 09', 'Q3 09', 'Q4 09', 'Q1 10',\n",
    "         'Q2 10', 'Q3 10', 'Q4 10', 'Q1 11', 'Q2 11', 'Q3 11',\n",
    "         'Q4 11', 'Q1 12', 'Q2 12', 'Q3 12', 'Q4 12', 'Q1 13',\n",
    "         'Q2 13', 'Q3 13', 'Q4 13', 'Q1 14', 'Q2 14', 'Q3 14',\n",
    "         'Q4 14', 'Q1 15', 'Q2 15', 'Q3 15', 'Q4 15', 'Q1 16',\n",
    "         'Q2 16', 'Q3 16', 'Q4 16', 'Q1 17', 'Q2 17', 'Q3 17', 'Q4 17'],\n",
    "    'User count':\n",
    "        [100, 197, 242, 305, 360, 431, 482, 550, 608, 680, 739, 800,\n",
    "         845, 901, 955, 1007, 1056, 1110, 1155, 1189, 1228, 1276, 1317,\n",
    "         1350, 1393, 1441, 1490, 1545, 1591, 1654, 1712, 1788, 1860, 1936,\n",
    "         2006, 2072, 2129]\n",
    "}"
   ],
   "id": "5d5c6d56cc388384",
   "outputs": [],
   "execution_count": 6
  },
  {
   "metadata": {},
   "cell_type": "markdown",
   "source": "## Liczba uzytkownikow w kolejnych kwartalach (Facebook) - dane z lat 2008-2017 - usuwanie roku 2007 gdyz nie ma danych dla poprzedniej tabeli z tego roku\n",
   "id": "7146dfa0a99984d"
  },
  {
   "metadata": {
    "ExecuteTime": {
     "end_time": "2024-11-07T16:01:47.201889Z",
     "start_time": "2024-11-07T16:01:47.198212Z"
    }
   },
   "cell_type": "code",
   "source": [
    "fb_stats_y_old = {\n",
    "    'Y': [2007, 2008, 2009, 2010, 2011, 2012, 2013, 2014, 2015, 2016, 2017],\n",
    "    'Income': [153, 272, 777, 1974, 3711, 5089, 7872, 12466, 17928, 27638, 40653],\n",
    "    'Profit': [-138, -56, 229, 606, 1000, 53, 1500, 2940, 3688, 10217, 15934],\n",
    "    'Employment': [450, 850, 1218, 2127, 3200, 4619, 6337, 9199, 12691, 17048, 25105]\n",
    "}\n",
    "\n",
    "# Poprawione dane z 2008-2017\n",
    "fb_stats_y = {\n",
    "    'Y': [2008, 2009, 2010, 2011, 2012, 2013, 2014, 2015, 2016, 2017],\n",
    "    'Income': [272, 777, 1974, 3711, 5089, 7872, 12466, 17928, 27638, 40653],\n",
    "    'Profit': [-56, 229, 606, 1000, 53, 1500, 2940, 3688, 10217, 15934],\n",
    "    'Employment': [850, 1218, 2127, 3200, 4619, 6337, 9199, 12691, 17048, 25105]\n",
    "}"
   ],
   "id": "9c1b7d573154614d",
   "outputs": [],
   "execution_count": 7
  },
  {
   "metadata": {},
   "cell_type": "markdown",
   "source": "## Tworzenie DataFrame z danymi ",
   "id": "b13b9012e8ec71e"
  },
  {
   "metadata": {
    "ExecuteTime": {
     "end_time": "2024-11-07T16:01:47.210148Z",
     "start_time": "2024-11-07T16:01:47.204933Z"
    }
   },
   "cell_type": "code",
   "source": [
    "user_count_df = pd.DataFrame(data=user_count_q)\n",
    "fb_stats_y_df = pd.DataFrame(data=fb_stats_y)\n",
    "print(fb_stats_y_df)\n",
    "print(user_count_df)"
   ],
   "id": "f2880c5402c900b7",
   "outputs": [
    {
     "name": "stdout",
     "output_type": "stream",
     "text": [
      "      Y  Income  Profit  Employment\n",
      "0  2008     272     -56         850\n",
      "1  2009     777     229        1218\n",
      "2  2010    1974     606        2127\n",
      "3  2011    3711    1000        3200\n",
      "4  2012    5089      53        4619\n",
      "5  2013    7872    1500        6337\n",
      "6  2014   12466    2940        9199\n",
      "7  2015   17928    3688       12691\n",
      "8  2016   27638   10217       17048\n",
      "9  2017   40653   15934       25105\n",
      "        Q  User count\n",
      "0   Q3 08         100\n",
      "1   Q1 09         197\n",
      "2   Q2 09         242\n",
      "3   Q3 09         305\n",
      "4   Q4 09         360\n",
      "5   Q1 10         431\n",
      "6   Q2 10         482\n",
      "7   Q3 10         550\n",
      "8   Q4 10         608\n",
      "9   Q1 11         680\n",
      "10  Q2 11         739\n",
      "11  Q3 11         800\n",
      "12  Q4 11         845\n",
      "13  Q1 12         901\n",
      "14  Q2 12         955\n",
      "15  Q3 12        1007\n",
      "16  Q4 12        1056\n",
      "17  Q1 13        1110\n",
      "18  Q2 13        1155\n",
      "19  Q3 13        1189\n",
      "20  Q4 13        1228\n",
      "21  Q1 14        1276\n",
      "22  Q2 14        1317\n",
      "23  Q3 14        1350\n",
      "24  Q4 14        1393\n",
      "25  Q1 15        1441\n",
      "26  Q2 15        1490\n",
      "27  Q3 15        1545\n",
      "28  Q4 15        1591\n",
      "29  Q1 16        1654\n",
      "30  Q2 16        1712\n",
      "31  Q3 16        1788\n",
      "32  Q4 16        1860\n",
      "33  Q1 17        1936\n",
      "34  Q2 17        2006\n",
      "35  Q3 17        2072\n",
      "36  Q4 17        2129\n"
     ]
    }
   ],
   "execution_count": 8
  },
  {
   "metadata": {
    "ExecuteTime": {
     "end_time": "2024-11-07T16:01:47.244981Z",
     "start_time": "2024-11-07T16:01:47.242403Z"
    }
   },
   "cell_type": "code",
   "source": [
    "def convert_quarter_to_year(quarter) -> int:\n",
    "    year_str = quarter.split(' ')[1]\n",
    "    year_int = 2000 + int(year_str)\n",
    "    return year_int\n"
   ],
   "id": "dcc39ef449e524ef",
   "outputs": [],
   "execution_count": 9
  },
  {
   "metadata": {
    "ExecuteTime": {
     "end_time": "2024-11-07T16:01:47.251530Z",
     "start_time": "2024-11-07T16:01:47.244981Z"
    }
   },
   "cell_type": "code",
   "source": [
    "user_count_y_df = user_count_df.copy()\n",
    "user_count_y_df['Q'] = user_count_df['Q'].map(convert_quarter_to_year)\n",
    "# Alternatywa byloby zaladowanie danych z Q4 jako max tez dobrze\n",
    "user_count_y_df = user_count_y_df\n",
    "user_count_y_df = user_count_y_df.groupby('Q', as_index=False).max()\n",
    "user_count_y_df.rename(columns={'Q': 'Y'}, inplace=True)\n",
    "print(user_count_y_df)"
   ],
   "id": "d7c9893bff100381",
   "outputs": [
    {
     "name": "stdout",
     "output_type": "stream",
     "text": [
      "      Y  User count\n",
      "0  2008         100\n",
      "1  2009         360\n",
      "2  2010         608\n",
      "3  2011         845\n",
      "4  2012        1056\n",
      "5  2013        1228\n",
      "6  2014        1393\n",
      "7  2015        1591\n",
      "8  2016        1860\n",
      "9  2017        2129\n"
     ]
    }
   ],
   "execution_count": 10
  },
  {
   "metadata": {
    "ExecuteTime": {
     "end_time": "2024-11-07T16:01:47.256551Z",
     "start_time": "2024-11-07T16:01:47.252534Z"
    }
   },
   "cell_type": "code",
   "source": [
    "fb_stats_y_df = pd.DataFrame(data=fb_stats_y)\n",
    "# Calculate costs\n",
    "fb_stats_y_df['Costs'] = fb_stats_y_df['Income'] - fb_stats_y_df['Profit']\n",
    "# fb_stats_y_df.drop([0], inplace=True)\n",
    "fb_stats_y_df.reset_index(drop=True, inplace=True)\n",
    "fb_stats_y_df.insert(3, 'User count', user_count_y_df['User count'])\n",
    "print(fb_stats_y_df)\n"
   ],
   "id": "13c1abecc3b948c5",
   "outputs": [
    {
     "name": "stdout",
     "output_type": "stream",
     "text": [
      "      Y  Income  Profit  User count  Employment  Costs\n",
      "0  2008     272     -56         100         850    328\n",
      "1  2009     777     229         360        1218    548\n",
      "2  2010    1974     606         608        2127   1368\n",
      "3  2011    3711    1000         845        3200   2711\n",
      "4  2012    5089      53        1056        4619   5036\n",
      "5  2013    7872    1500        1228        6337   6372\n",
      "6  2014   12466    2940        1393        9199   9526\n",
      "7  2015   17928    3688        1591       12691  14240\n",
      "8  2016   27638   10217        1860       17048  17421\n",
      "9  2017   40653   15934        2129       25105  24719\n"
     ]
    }
   ],
   "execution_count": 11
  },
  {
   "metadata": {},
   "cell_type": "markdown",
   "source": "## Tworzenie wykresu iloczynu kartezjanskiego w celu wyzanczeniach zaleznosci miedzy danymi",
   "id": "fb0e0f0ee024f1ec"
  },
  {
   "metadata": {},
   "cell_type": "code",
   "outputs": [
    {
     "data": {
      "text/plain": [
       "array([[<Axes: xlabel='Y', ylabel='Y'>,\n",
       "        <Axes: xlabel='Income', ylabel='Y'>,\n",
       "        <Axes: xlabel='Profit', ylabel='Y'>,\n",
       "        <Axes: xlabel='User count', ylabel='Y'>,\n",
       "        <Axes: xlabel='Employment', ylabel='Y'>,\n",
       "        <Axes: xlabel='Costs', ylabel='Y'>],\n",
       "       [<Axes: xlabel='Y', ylabel='Income'>,\n",
       "        <Axes: xlabel='Income', ylabel='Income'>,\n",
       "        <Axes: xlabel='Profit', ylabel='Income'>,\n",
       "        <Axes: xlabel='User count', ylabel='Income'>,\n",
       "        <Axes: xlabel='Employment', ylabel='Income'>,\n",
       "        <Axes: xlabel='Costs', ylabel='Income'>],\n",
       "       [<Axes: xlabel='Y', ylabel='Profit'>,\n",
       "        <Axes: xlabel='Income', ylabel='Profit'>,\n",
       "        <Axes: xlabel='Profit', ylabel='Profit'>,\n",
       "        <Axes: xlabel='User count', ylabel='Profit'>,\n",
       "        <Axes: xlabel='Employment', ylabel='Profit'>,\n",
       "        <Axes: xlabel='Costs', ylabel='Profit'>],\n",
       "       [<Axes: xlabel='Y', ylabel='User count'>,\n",
       "        <Axes: xlabel='Income', ylabel='User count'>,\n",
       "        <Axes: xlabel='Profit', ylabel='User count'>,\n",
       "        <Axes: xlabel='User count', ylabel='User count'>,\n",
       "        <Axes: xlabel='Employment', ylabel='User count'>,\n",
       "        <Axes: xlabel='Costs', ylabel='User count'>],\n",
       "       [<Axes: xlabel='Y', ylabel='Employment'>,\n",
       "        <Axes: xlabel='Income', ylabel='Employment'>,\n",
       "        <Axes: xlabel='Profit', ylabel='Employment'>,\n",
       "        <Axes: xlabel='User count', ylabel='Employment'>,\n",
       "        <Axes: xlabel='Employment', ylabel='Employment'>,\n",
       "        <Axes: xlabel='Costs', ylabel='Employment'>],\n",
       "       [<Axes: xlabel='Y', ylabel='Costs'>,\n",
       "        <Axes: xlabel='Income', ylabel='Costs'>,\n",
       "        <Axes: xlabel='Profit', ylabel='Costs'>,\n",
       "        <Axes: xlabel='User count', ylabel='Costs'>,\n",
       "        <Axes: xlabel='Employment', ylabel='Costs'>,\n",
       "        <Axes: xlabel='Costs', ylabel='Costs'>]], dtype=object)"
      ]
     },
     "execution_count": 13,
     "metadata": {},
     "output_type": "execute_result"
    },
    {
     "data": {
      "text/plain": [
       "<Figure size 1000x1000 with 36 Axes>"
      ],
      "image/png": "[encoded data removed]"
     },
     "metadata": {},
     "output_type": "display_data"
    }
   ],
   "execution_count": 13,
   "source": "pd.plotting.scatter_matrix(fb_stats_y_df, figsize=(10, 10))",
   "id": "c9b772f580da550d"
  },
  {
   "metadata": {},
   "cell_type": "markdown",
   "source": "## Dane dla przyszlych lat (2018-2022) potrzbne do weryfikowania predyckji modelu",
   "id": "92f0ee58fbf0409"
  },
  {
   "metadata": {
    "ExecuteTime": {
     "end_time": "2024-11-07T19:42:50.752561Z",
     "start_time": "2024-11-07T19:42:50.748677Z"
    }
   },
   "cell_type": "code",
   "source": [
    "user_count_q_test = {\n",
    "    'Q':\n",
    "    ['Q1 18', 'Q2 18', 'Q3 18', 'Q4 18',\n",
    "    'Q1 19', 'Q2 19', 'Q3 19', 'Q4 19',\n",
    "    'Q1 20', 'Q2 20', 'Q3 20', 'Q4 20',\n",
    "    'Q1 21', 'Q2 21', 'Q3 21', 'Q4 21',\n",
    "    'Q1 22', 'Q2 22', 'Q3 22', 'Q4 22'],\n",
    "    'User count': \n",
    "    [2196, 2234, 2271, 2320, 2375, 2414, 2449, 2498, 2603, 2701, 2740, 2797,\n",
    "    2853, 2895, 2910, 2912, 2936, 2934, 2958, 2963]\n",
    "}\n",
    "\n",
    "fb_stats_y_test = {\n",
    "    'Y': [2018, 2019, 2020, 2021, 2022],\n",
    "    'Income': [55838, 70697, 85965, 117929, 116609],\n",
    "    'Profit': [22112, 18485, 29146, 39370, 23200],\n",
    "    'Costs': [33726, 52212, 56819, 78559, 93409],\n",
    "    'Employment': [35587, 44942, 58604, 71970, 87314],\n",
    "    'User count': [2320, 2498, 2797, 2912, 2963]\n",
    "}"
   ],
   "id": "f860b75ee635c2cb",
   "outputs": [],
   "execution_count": 22
  },
  {
   "metadata": {
    "ExecuteTime": {
     "end_time": "2024-11-07T19:48:53.394235Z",
     "start_time": "2024-11-07T19:48:53.389414Z"
    }
   },
   "cell_type": "code",
   "source": [
    "user_count_test_df = pd.DataFrame(data=user_count_q_test)\n",
    "fb_stats_y_test_df = pd.DataFrame(data=fb_stats_y_test)\n",
    "print(user_count_test_df)\n",
    "print(fb_stats_y_test_df)"
   ],
   "id": "5ce1e04605ebbc7b",
   "outputs": [
    {
     "name": "stdout",
     "output_type": "stream",
     "text": [
      "        Q  User count\n",
      "0   Q1 18        2196\n",
      "1   Q2 18        2234\n",
      "2   Q3 18        2271\n",
      "3   Q4 18        2320\n",
      "4   Q1 19        2375\n",
      "5   Q2 19        2414\n",
      "6   Q3 19        2449\n",
      "7   Q4 19        2498\n",
      "8   Q1 20        2603\n",
      "9   Q2 20        2701\n",
      "10  Q3 20        2740\n",
      "11  Q4 20        2797\n",
      "12  Q1 21        2853\n",
      "13  Q2 21        2895\n",
      "14  Q3 21        2910\n",
      "15  Q4 21        2912\n",
      "16  Q1 22        2936\n",
      "17  Q2 22        2934\n",
      "18  Q3 22        2958\n",
      "19  Q4 22        2963\n",
      "      Y  Income  Profit  Costs  Employment  User count\n",
      "0  2018   55838   22112  33726       35587        2320\n",
      "1  2019   70697   18485  52212       44942        2498\n",
      "2  2020   85965   29146  56819       58604        2797\n",
      "3  2021  117929   39370  78559       71970        2912\n",
      "4  2022  116609   23200  93409       87314        2963\n"
     ]
    }
   ],
   "execution_count": 26
  },
  {
   "metadata": {},
   "cell_type": "markdown",
   "source": "## Funkcja do obliczania statystyki modelu",
   "id": "f88cea006ccaba3c"
  },
  {
   "metadata": {
    "ExecuteTime": {
     "end_time": "2024-11-07T19:53:26.897762Z",
     "start_time": "2024-11-07T19:53:26.893401Z"
    }
   },
   "cell_type": "code",
   "source": [
    "def calculate_model_stats(y_hat, y_true, X) -> dict:\n",
    "    # Dodajemy kolumne jedynek dla wyrazu wolnego \n",
    "    X = np.insert(X, 0, 1, axis=1) \n",
    "    \n",
    "    residuals = y_true - y_hat\n",
    "    # Obliczamy sume kwadratow reszt(RSS - Residual Sum of Squares)\n",
    "    # RSS = e^T * e, gdzie e to wektor reszt\n",
    "    residuals_sum_squared = residuals.T @ residuals \n",
    "    \n",
    "    # Obliczamy estymator wariancji resztowej (σ²)\n",
    "    # σ² = RSS/(n-k), gdzie:\n",
    "    # n = liczba obserwacji (y_hat.shape[0])\n",
    "    # k = liczba parametrów modelu (X.shape[1])\n",
    "    standard_variance = residuals_sum_squared[0, 0] / (y_hat.shape[0] - X.shape[1])\n",
    "    \n",
    "    # Var(β̂) = σ² × (X^T × X)^(-1)\n",
    "    model_coefficients_covariance = standard_variance * np.linalg.inv(X.T @ X) # Liczymy macierz kowariancji wspl. modelu\n",
    "    stats = dict()\n",
    "    \n",
    "    # Obliczamy błędy standardowe dla każdego współczynnika\n",
    "    # SE(β̂ᵢ) = √Var(β̂ᵢ)\n",
    "    for number in range(model_coefficients_covariance.shape[0]):\n",
    "        stats['Standard errror a' + str(number)] = np.sqrt(model_coefficients_covariance[number, number])\n",
    "    \n",
    "    # Na koniec blad standardowy modelu\n",
    "    stats['Standard error e'] = np.sqrt(standard_variance)\n",
    "    return stats\n",
    "    \n",
    "    "
   ],
   "id": "c58f822af7fb255d",
   "outputs": [],
   "execution_count": 27
  },
  {
   "metadata": {},
   "cell_type": "code",
   "outputs": [],
   "execution_count": null,
   "source": "",
   "id": "29aa088a4a7e1903"
  }
 ],
 "metadata": {
  "kernelspec": {
   "display_name": "Python 3",
   "language": "python",
   "name": "python3"
  },
  "language_info": {
   "codemirror_mode": {
    "name": "ipython",
    "version": 2
   },
   "file_extension": ".py",
   "mimetype": "text/x-python",
   "name": "python",
   "nbconvert_exporter": "python",
   "pygments_lexer": "ipython2",
   "version": "2.7.6"
  }
 },
 "nbformat": 4,
 "nbformat_minor": 5
}
