{
 "cells": [
  {
   "metadata": {},
   "cell_type": "markdown",
   "source": "## Lab 2.4: Platki sniadaniowe - klasyfikacja",
   "id": "c142a0fee0e7e9d8"
  },
  {
   "metadata": {},
   "cell_type": "markdown",
   "source": "### Paczki i dane",
   "id": "2a01f715c2df36e4"
  },
  {
   "metadata": {
    "ExecuteTime": {
     "end_time": "2024-12-19T16:47:36.892123Z",
     "start_time": "2024-12-19T16:47:36.537193Z"
    }
   },
   "cell_type": "code",
   "source": [
    "import pandas as pd\n",
    "import numpy as np\n",
    "from sklearn.model_selection import train_test_split, cross_val_score\n",
    "from sklearn.linear_model import LogisticRegression\n",
    "from sklearn.preprocessing import StandardScaler\n",
    "from sklearn.metrics import classification_report, confusion_matrix\n",
    "import seaborn as sns\n",
    "import matplotlib.pyplot as plt"
   ],
   "id": "33b0695c2cacc70f",
   "outputs": [],
   "execution_count": 1
  },
  {
   "metadata": {
    "ExecuteTime": {
     "end_time": "2024-12-19T17:11:11.903760Z",
     "start_time": "2024-12-19T17:11:11.889110Z"
    }
   },
   "cell_type": "code",
   "source": [
    "df = pd.read_csv('Płatki-sniadaniowe-cereals.txt', sep='\\t')\n",
    "\n",
    "# features = ['kalorie', 'cukry', 'weglowodany', 'proteiny', 'tluszcz', 'blonnik']\n",
    "# Bazujac na wykresach wszelakiej masci\n",
    "features = ['kalorie', 'cukry']\n",
    "X = df[features]\n",
    "scaler = StandardScaler()\n",
    "X_scaled = scaler.fit_transform(X)"
   ],
   "id": "c501a0715be04c05",
   "outputs": [],
   "execution_count": 6
  },
  {
   "metadata": {},
   "cell_type": "markdown",
   "source": "### Model 1: Przewidywanie czy produkt jest na środkowej półce (dla dzieci)",
   "id": "e57178d6dd04128c"
  },
  {
   "metadata": {
    "ExecuteTime": {
     "end_time": "2024-12-19T17:11:13.209184Z",
     "start_time": "2024-12-19T17:11:13.168362Z"
    }
   },
   "cell_type": "code",
   "source": [
    "y_middle = (df['srodk_polka'] == 'T').astype(int) # 1 dla środkowej półki, 0 dla innych\n",
    "# Trenowanie modelu poprzez podział na zbiór treningowy i testowy\n",
    "X_train, X_test, y_train, y_test = train_test_split(X_scaled, y_middle, test_size=0.2, random_state=42)\n",
    "\n",
    "# Random state 42 - zawsze ten sam podział\n",
    "model_middle = LogisticRegression(random_state=42)\n",
    "model_middle.fit(X_train, y_train)\n",
    "\n",
    "# Ocena modelu\n",
    "print(\"Model 1: Przewidywanie produktów dla srodkowej pólki\")\n",
    "print(\"\\nWyniki cross-validacji:\")\n",
    "cv_scores = cross_val_score(model_middle, X_scaled, y_middle, cv=5)\n",
    "print(f\"Srednia dokladnosc: {cv_scores.mean():.2f} (+/- {cv_scores.std() * 2:.2f})\")"
   ],
   "id": "e9498083627b2073",
   "outputs": [
    {
     "name": "stdout",
     "output_type": "stream",
     "text": [
      "Model 1: Przewidywanie produktów dla srodkowej pólki\n",
      "\n",
      "Wyniki cross-validacji:\n",
      "Srednia dokladnosc: 0.78 (+/- 0.11)\n"
     ]
    }
   ],
   "execution_count": 7
  },
  {
   "metadata": {
    "ExecuteTime": {
     "end_time": "2024-12-19T17:30:00.078534Z",
     "start_time": "2024-12-19T17:29:52.476677Z"
    }
   },
   "cell_type": "code",
   "source": "",
   "id": "b35c301e52f8b119",
   "outputs": [
    {
     "name": "stdout",
     "output_type": "stream",
     "text": [
      "Model 1: Klasyfikator środkowej półki (cukier i kalorie)\n",
      "\n",
      "Dokładność cross-validation (środkowa półka): 0.80 (+/- 0.23)\n",
      "\n",
      "Ważność cech dla środkowej półki:\n",
      "     cecha      waga\n",
      "0    cukry  0.672828\n",
      "1  kalorie  0.327172\n",
      "\n",
      "Model 2: Automatyczny dobór cech dla poszczególnych półek\n",
      "\n",
      "Wybrane cechy dla polka_1:\n",
      "['cukry', 'weglowodany', 'sod', 'potas']\n",
      "Dokładność cross-validation: 0.81 (+/- 0.14)\n",
      "\n",
      "Wybrane cechy dla polka_2:\n",
      "['cukry', 'blonnik', 'sod', 'potas']\n",
      "Dokładność cross-validation: 0.78 (+/- 0.24)\n",
      "\n",
      "Wybrane cechy dla polka_3:\n",
      "['cukry', 'weglowodany', 'blonnik', 'sod', 'potas']\n",
      "Dokładność cross-validation: 0.70 (+/- 0.28)\n",
      "\n",
      "Przykład predykcji dla nowego produktu (podobnego do Cocoa Puffs):\n",
      "{'prawdopodobienstwo_srodkowa_polka': 0.975, 'prawdopodobienstwa_wszystkich_polek': {'polka_1': 0.015, 'polka_2': 0.97, 'polka_3': 0.005}, 'sugerowana_polka': 'polka_2'}\n",
      "\n",
      "Przykład predykcji dla nowego produktu (podobnego do Cheerios):\n",
      "{'prawdopodobienstwo_srodkowa_polka': 0.08212871850371849, 'prawdopodobienstwa_wszystkich_polek': {'polka_1': 0.885, 'polka_2': 0.01, 'polka_3': 0.085}, 'sugerowana_polka': 'polka_1'}\n"
     ]
    },
    {
     "name": "stderr",
     "output_type": "stream",
     "text": [
      "C:\\Users\\szyme\\docker-image\\MED_LAB\\.venv\\Lib\\site-packages\\sklearn\\base.py:493: UserWarning: X does not have valid feature names, but StandardScaler was fitted with feature names\n",
      "  warnings.warn(\n",
      "C:\\Users\\szyme\\docker-image\\MED_LAB\\.venv\\Lib\\site-packages\\sklearn\\base.py:493: UserWarning: X does not have valid feature names, but StandardScaler was fitted with feature names\n",
      "  warnings.warn(\n",
      "C:\\Users\\szyme\\docker-image\\MED_LAB\\.venv\\Lib\\site-packages\\sklearn\\base.py:493: UserWarning: X does not have valid feature names, but StandardScaler was fitted with feature names\n",
      "  warnings.warn(\n",
      "C:\\Users\\szyme\\docker-image\\MED_LAB\\.venv\\Lib\\site-packages\\sklearn\\base.py:493: UserWarning: X does not have valid feature names, but StandardScaler was fitted with feature names\n",
      "  warnings.warn(\n"
     ]
    }
   ],
   "execution_count": 9
  },
  {
   "metadata": {},
   "cell_type": "code",
   "outputs": [],
   "execution_count": null,
   "source": "",
   "id": "5c644fde87cc428d"
  }
 ],
 "metadata": {
  "kernelspec": {
   "display_name": "Python 3",
   "language": "python",
   "name": "python3"
  },
  "language_info": {
   "codemirror_mode": {
    "name": "ipython",
    "version": 2
   },
   "file_extension": ".py",
   "mimetype": "text/x-python",
   "name": "python",
   "nbconvert_exporter": "python",
   "pygments_lexer": "ipython2",
   "version": "2.7.6"
  }
 },
 "nbformat": 4,
 "nbformat_minor": 5
}
